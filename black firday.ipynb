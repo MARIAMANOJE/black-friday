{
 "cells": [
  {
   "cell_type": "code",
   "execution_count": 1,
   "id": "d256c4c3",
   "metadata": {},
   "outputs": [],
   "source": [
    "import pandas as pd\n",
    "import numpy as np\n",
    "import matplotlib.pyplot as plt\n",
    "import seaborn as sns\n",
    "import statsmodels.api as sm\n",
    "from sklearn.model_selection import train_test_split\n",
    "from sklearn.linear_model import LogisticRegression\n",
    "from sklearn.ensemble import RandomForestRegressor\n",
    "from sklearn.tree import DecisionTreeRegressor\n",
    "from sklearn.datasets import make_regression\n",
    "from sklearn.metrics import mean_squared_error\n",
    "from math import sqrt\n",
    "from sklearn.linear_model import LinearRegression\n",
    "from sklearn.datasets import make_hastie_10_2\n",
    "from sklearn.ensemble import GradientBoostingRegressor\n",
    "from sklearn.ensemble import AdaBoostRegressor\n",
    "from sklearn.datasets import make_classification"
   ]
  },
  {
   "cell_type": "code",
   "execution_count": 2,
   "id": "12da1adb",
   "metadata": {},
   "outputs": [],
   "source": [
    "bl=pd.read_csv(\"C:/Users/Mano/Documents/hello/train.csv\")"
   ]
  },
  {
   "cell_type": "code",
   "execution_count": 3,
   "id": "fabc2ec5",
   "metadata": {
    "scrolled": true
   },
   "outputs": [
    {
     "data": {
      "text/plain": [
       "User_ID                       0.000000\n",
       "Product_ID                    0.000000\n",
       "Gender                        0.000000\n",
       "Age                           0.000000\n",
       "Occupation                    0.000000\n",
       "City_Category                 0.000000\n",
       "Stay_In_Current_City_Years    0.000000\n",
       "Marital_Status                0.000000\n",
       "Product_Category_1            0.000000\n",
       "Product_Category_2            0.315666\n",
       "Product_Category_3            0.696727\n",
       "Purchase                      0.000000\n",
       "dtype: float64"
      ]
     },
     "execution_count": 3,
     "metadata": {},
     "output_type": "execute_result"
    }
   ],
   "source": [
    "bl.isnull().mean()"
   ]
  },
  {
   "cell_type": "code",
   "execution_count": 4,
   "id": "a7ad7fb1",
   "metadata": {},
   "outputs": [],
   "source": [
    "bl.drop([\"Product_Category_3\",\"Product_ID\",\"User_ID\"],axis=1,inplace=True)"
   ]
  },
  {
   "cell_type": "code",
   "execution_count": 5,
   "id": "6d6b6829",
   "metadata": {},
   "outputs": [],
   "source": [
    "bl.Product_Category_2.fillna(bl.Product_Category_2.mean(),inplace=True)"
   ]
  },
  {
   "cell_type": "code",
   "execution_count": 6,
   "id": "1c73d6fd",
   "metadata": {},
   "outputs": [
    {
     "data": {
      "text/plain": [
       "Gender                        0.0\n",
       "Age                           0.0\n",
       "Occupation                    0.0\n",
       "City_Category                 0.0\n",
       "Stay_In_Current_City_Years    0.0\n",
       "Marital_Status                0.0\n",
       "Product_Category_1            0.0\n",
       "Product_Category_2            0.0\n",
       "Purchase                      0.0\n",
       "dtype: float64"
      ]
     },
     "execution_count": 6,
     "metadata": {},
     "output_type": "execute_result"
    }
   ],
   "source": [
    "bl.isnull().mean()"
   ]
  },
  {
   "cell_type": "code",
   "execution_count": 7,
   "id": "2607227f",
   "metadata": {},
   "outputs": [],
   "source": [
    "dummie=pd.get_dummies(bl)"
   ]
  },
  {
   "cell_type": "code",
   "execution_count": 8,
   "id": "87abd6c3",
   "metadata": {},
   "outputs": [
    {
     "data": {
      "text/plain": [
       "(550068, 22)"
      ]
     },
     "execution_count": 8,
     "metadata": {},
     "output_type": "execute_result"
    }
   ],
   "source": [
    "dummie.shape"
   ]
  },
  {
   "cell_type": "code",
   "execution_count": 9,
   "id": "1ae810ea",
   "metadata": {},
   "outputs": [
    {
     "data": {
      "text/html": [
       "<div>\n",
       "<style scoped>\n",
       "    .dataframe tbody tr th:only-of-type {\n",
       "        vertical-align: middle;\n",
       "    }\n",
       "\n",
       "    .dataframe tbody tr th {\n",
       "        vertical-align: top;\n",
       "    }\n",
       "\n",
       "    .dataframe thead th {\n",
       "        text-align: right;\n",
       "    }\n",
       "</style>\n",
       "<table border=\"1\" class=\"dataframe\">\n",
       "  <thead>\n",
       "    <tr style=\"text-align: right;\">\n",
       "      <th></th>\n",
       "      <th>Occupation</th>\n",
       "      <th>Marital_Status</th>\n",
       "      <th>Product_Category_1</th>\n",
       "      <th>Product_Category_2</th>\n",
       "      <th>Purchase</th>\n",
       "      <th>Gender_F</th>\n",
       "      <th>Gender_M</th>\n",
       "      <th>Age_0-17</th>\n",
       "      <th>Age_18-25</th>\n",
       "      <th>Age_26-35</th>\n",
       "      <th>...</th>\n",
       "      <th>Age_51-55</th>\n",
       "      <th>Age_55+</th>\n",
       "      <th>City_Category_A</th>\n",
       "      <th>City_Category_B</th>\n",
       "      <th>City_Category_C</th>\n",
       "      <th>Stay_In_Current_City_Years_0</th>\n",
       "      <th>Stay_In_Current_City_Years_1</th>\n",
       "      <th>Stay_In_Current_City_Years_2</th>\n",
       "      <th>Stay_In_Current_City_Years_3</th>\n",
       "      <th>Stay_In_Current_City_Years_4+</th>\n",
       "    </tr>\n",
       "  </thead>\n",
       "  <tbody>\n",
       "    <tr>\n",
       "      <th>0</th>\n",
       "      <td>10</td>\n",
       "      <td>0</td>\n",
       "      <td>3</td>\n",
       "      <td>9.842329</td>\n",
       "      <td>8370</td>\n",
       "      <td>1</td>\n",
       "      <td>0</td>\n",
       "      <td>1</td>\n",
       "      <td>0</td>\n",
       "      <td>0</td>\n",
       "      <td>...</td>\n",
       "      <td>0</td>\n",
       "      <td>0</td>\n",
       "      <td>1</td>\n",
       "      <td>0</td>\n",
       "      <td>0</td>\n",
       "      <td>0</td>\n",
       "      <td>0</td>\n",
       "      <td>1</td>\n",
       "      <td>0</td>\n",
       "      <td>0</td>\n",
       "    </tr>\n",
       "    <tr>\n",
       "      <th>1</th>\n",
       "      <td>10</td>\n",
       "      <td>0</td>\n",
       "      <td>1</td>\n",
       "      <td>6.000000</td>\n",
       "      <td>15200</td>\n",
       "      <td>1</td>\n",
       "      <td>0</td>\n",
       "      <td>1</td>\n",
       "      <td>0</td>\n",
       "      <td>0</td>\n",
       "      <td>...</td>\n",
       "      <td>0</td>\n",
       "      <td>0</td>\n",
       "      <td>1</td>\n",
       "      <td>0</td>\n",
       "      <td>0</td>\n",
       "      <td>0</td>\n",
       "      <td>0</td>\n",
       "      <td>1</td>\n",
       "      <td>0</td>\n",
       "      <td>0</td>\n",
       "    </tr>\n",
       "    <tr>\n",
       "      <th>2</th>\n",
       "      <td>10</td>\n",
       "      <td>0</td>\n",
       "      <td>12</td>\n",
       "      <td>9.842329</td>\n",
       "      <td>1422</td>\n",
       "      <td>1</td>\n",
       "      <td>0</td>\n",
       "      <td>1</td>\n",
       "      <td>0</td>\n",
       "      <td>0</td>\n",
       "      <td>...</td>\n",
       "      <td>0</td>\n",
       "      <td>0</td>\n",
       "      <td>1</td>\n",
       "      <td>0</td>\n",
       "      <td>0</td>\n",
       "      <td>0</td>\n",
       "      <td>0</td>\n",
       "      <td>1</td>\n",
       "      <td>0</td>\n",
       "      <td>0</td>\n",
       "    </tr>\n",
       "    <tr>\n",
       "      <th>3</th>\n",
       "      <td>10</td>\n",
       "      <td>0</td>\n",
       "      <td>12</td>\n",
       "      <td>14.000000</td>\n",
       "      <td>1057</td>\n",
       "      <td>1</td>\n",
       "      <td>0</td>\n",
       "      <td>1</td>\n",
       "      <td>0</td>\n",
       "      <td>0</td>\n",
       "      <td>...</td>\n",
       "      <td>0</td>\n",
       "      <td>0</td>\n",
       "      <td>1</td>\n",
       "      <td>0</td>\n",
       "      <td>0</td>\n",
       "      <td>0</td>\n",
       "      <td>0</td>\n",
       "      <td>1</td>\n",
       "      <td>0</td>\n",
       "      <td>0</td>\n",
       "    </tr>\n",
       "    <tr>\n",
       "      <th>4</th>\n",
       "      <td>16</td>\n",
       "      <td>0</td>\n",
       "      <td>8</td>\n",
       "      <td>9.842329</td>\n",
       "      <td>7969</td>\n",
       "      <td>0</td>\n",
       "      <td>1</td>\n",
       "      <td>0</td>\n",
       "      <td>0</td>\n",
       "      <td>0</td>\n",
       "      <td>...</td>\n",
       "      <td>0</td>\n",
       "      <td>1</td>\n",
       "      <td>0</td>\n",
       "      <td>0</td>\n",
       "      <td>1</td>\n",
       "      <td>0</td>\n",
       "      <td>0</td>\n",
       "      <td>0</td>\n",
       "      <td>0</td>\n",
       "      <td>1</td>\n",
       "    </tr>\n",
       "  </tbody>\n",
       "</table>\n",
       "<p>5 rows × 22 columns</p>\n",
       "</div>"
      ],
      "text/plain": [
       "   Occupation  Marital_Status  Product_Category_1  Product_Category_2  \\\n",
       "0          10               0                   3            9.842329   \n",
       "1          10               0                   1            6.000000   \n",
       "2          10               0                  12            9.842329   \n",
       "3          10               0                  12           14.000000   \n",
       "4          16               0                   8            9.842329   \n",
       "\n",
       "   Purchase  Gender_F  Gender_M  Age_0-17  Age_18-25  Age_26-35  ...  \\\n",
       "0      8370         1         0         1          0          0  ...   \n",
       "1     15200         1         0         1          0          0  ...   \n",
       "2      1422         1         0         1          0          0  ...   \n",
       "3      1057         1         0         1          0          0  ...   \n",
       "4      7969         0         1         0          0          0  ...   \n",
       "\n",
       "   Age_51-55  Age_55+  City_Category_A  City_Category_B  City_Category_C  \\\n",
       "0          0        0                1                0                0   \n",
       "1          0        0                1                0                0   \n",
       "2          0        0                1                0                0   \n",
       "3          0        0                1                0                0   \n",
       "4          0        1                0                0                1   \n",
       "\n",
       "   Stay_In_Current_City_Years_0  Stay_In_Current_City_Years_1  \\\n",
       "0                             0                             0   \n",
       "1                             0                             0   \n",
       "2                             0                             0   \n",
       "3                             0                             0   \n",
       "4                             0                             0   \n",
       "\n",
       "   Stay_In_Current_City_Years_2  Stay_In_Current_City_Years_3  \\\n",
       "0                             1                             0   \n",
       "1                             1                             0   \n",
       "2                             1                             0   \n",
       "3                             1                             0   \n",
       "4                             0                             0   \n",
       "\n",
       "   Stay_In_Current_City_Years_4+  \n",
       "0                              0  \n",
       "1                              0  \n",
       "2                              0  \n",
       "3                              0  \n",
       "4                              1  \n",
       "\n",
       "[5 rows x 22 columns]"
      ]
     },
     "execution_count": 9,
     "metadata": {},
     "output_type": "execute_result"
    }
   ],
   "source": [
    "dummie.head()"
   ]
  },
  {
   "cell_type": "code",
   "execution_count": 10,
   "id": "812bbb6d",
   "metadata": {},
   "outputs": [],
   "source": [
    "x=dummie.drop([\"Purchase\"],axis=1)"
   ]
  },
  {
   "cell_type": "code",
   "execution_count": 11,
   "id": "231708e1",
   "metadata": {},
   "outputs": [],
   "source": [
    "y=dummie[\"Purchase\"]"
   ]
  },
  {
   "cell_type": "code",
   "execution_count": 12,
   "id": "d7b780d5",
   "metadata": {},
   "outputs": [],
   "source": [
    "trainx,testx,trainy,testy=train_test_split(x,y,test_size=0.2,random_state=42)"
   ]
  },
  {
   "cell_type": "markdown",
   "id": "2a9639e6",
   "metadata": {},
   "source": [
    "# LinearRegression"
   ]
  },
  {
   "cell_type": "code",
   "execution_count": 13,
   "id": "89b759f1",
   "metadata": {},
   "outputs": [],
   "source": [
    "model=LinearRegression().fit(trainx,trainy)"
   ]
  },
  {
   "cell_type": "code",
   "execution_count": 14,
   "id": "b4940baf",
   "metadata": {},
   "outputs": [
    {
     "data": {
      "text/plain": [
       "array([12675.48154039, 10322.29010269,  7171.04344628, ...,\n",
       "        8172.27963925,  6664.08576885,  9428.61798717])"
      ]
     },
     "execution_count": 14,
     "metadata": {},
     "output_type": "execute_result"
    }
   ],
   "source": [
    "model.predict(testx)"
   ]
  },
  {
   "cell_type": "code",
   "execution_count": 63,
   "id": "23d90c5c",
   "metadata": {},
   "outputs": [],
   "source": [
    "m=model.score(testx,testy)"
   ]
  },
  {
   "cell_type": "code",
   "execution_count": 64,
   "id": "aafa2d6d",
   "metadata": {},
   "outputs": [
    {
     "data": {
      "text/plain": [
       "0.127332826592915"
      ]
     },
     "execution_count": 64,
     "metadata": {},
     "output_type": "execute_result"
    }
   ],
   "source": [
    "m"
   ]
  },
  {
   "cell_type": "code",
   "execution_count": 16,
   "id": "1d482b9e",
   "metadata": {},
   "outputs": [],
   "source": [
    "rme=sqrt(mean_squared_error(testy,model.predict(testx),squared=False))"
   ]
  },
  {
   "cell_type": "code",
   "execution_count": 17,
   "id": "22bf0099",
   "metadata": {},
   "outputs": [
    {
     "data": {
      "text/plain": [
       "68.4295645447702"
      ]
     },
     "execution_count": 17,
     "metadata": {},
     "output_type": "execute_result"
    }
   ],
   "source": [
    "rme"
   ]
  },
  {
   "cell_type": "markdown",
   "id": "6568df46",
   "metadata": {},
   "source": [
    "# DecisionTreeRegressor"
   ]
  },
  {
   "cell_type": "code",
   "execution_count": 18,
   "id": "ab6f7907",
   "metadata": {},
   "outputs": [
    {
     "data": {
      "text/plain": [
       "DecisionTreeRegressor(random_state=0)"
      ]
     },
     "execution_count": 18,
     "metadata": {},
     "output_type": "execute_result"
    }
   ],
   "source": [
    "dt=DecisionTreeRegressor(random_state=0)\n",
    "dt.fit(trainx,trainy)"
   ]
  },
  {
   "cell_type": "code",
   "execution_count": 19,
   "id": "79c1c592",
   "metadata": {},
   "outputs": [
    {
     "data": {
      "text/plain": [
       "array([13889.5       , 11899.        ,  7449.25      , ...,\n",
       "        6966.64285714,  4423.        ,  9653.08571429])"
      ]
     },
     "execution_count": 19,
     "metadata": {},
     "output_type": "execute_result"
    }
   ],
   "source": [
    "dt.predict(testx)"
   ]
  },
  {
   "cell_type": "code",
   "execution_count": 65,
   "id": "5eca517c",
   "metadata": {},
   "outputs": [],
   "source": [
    "s=dt.score(testx,testy)"
   ]
  },
  {
   "cell_type": "code",
   "execution_count": 66,
   "id": "bf3e4b63",
   "metadata": {},
   "outputs": [
    {
     "data": {
      "text/plain": [
       "0.6010772577057202"
      ]
     },
     "execution_count": 66,
     "metadata": {},
     "output_type": "execute_result"
    }
   ],
   "source": [
    "s"
   ]
  },
  {
   "cell_type": "code",
   "execution_count": 21,
   "id": "4cc83c4f",
   "metadata": {},
   "outputs": [],
   "source": [
    "rme2=sqrt(mean_squared_error(testy,dt.predict(testx),squared=False))"
   ]
  },
  {
   "cell_type": "code",
   "execution_count": 22,
   "id": "aae346ee",
   "metadata": {},
   "outputs": [
    {
     "data": {
      "text/plain": [
       "56.267007124242454"
      ]
     },
     "execution_count": 22,
     "metadata": {},
     "output_type": "execute_result"
    }
   ],
   "source": [
    "rme2"
   ]
  },
  {
   "cell_type": "markdown",
   "id": "8fa455b1",
   "metadata": {},
   "source": [
    "# RandomForestRegressor"
   ]
  },
  {
   "cell_type": "code",
   "execution_count": 23,
   "id": "03f7d733",
   "metadata": {},
   "outputs": [
    {
     "data": {
      "text/plain": [
       "RandomForestRegressor(random_state=0)"
      ]
     },
     "execution_count": 23,
     "metadata": {},
     "output_type": "execute_result"
    }
   ],
   "source": [
    "rf=RandomForestRegressor(random_state=0)\n",
    "rf.fit(trainx,trainy)"
   ]
  },
  {
   "cell_type": "code",
   "execution_count": 24,
   "id": "aabf762c",
   "metadata": {},
   "outputs": [
    {
     "data": {
      "text/plain": [
       "array([13787.05036508, 12875.66473208,  8405.14715512, ...,\n",
       "        6884.87221995,  3985.95222222,  9695.64792192])"
      ]
     },
     "execution_count": 24,
     "metadata": {},
     "output_type": "execute_result"
    }
   ],
   "source": [
    "rf.predict(testx)"
   ]
  },
  {
   "cell_type": "code",
   "execution_count": 67,
   "id": "3dca18a3",
   "metadata": {},
   "outputs": [],
   "source": [
    "d=rf.score(testx,testy)"
   ]
  },
  {
   "cell_type": "code",
   "execution_count": 68,
   "id": "f4523cbe",
   "metadata": {},
   "outputs": [
    {
     "data": {
      "text/plain": [
       "0.6354945597565536"
      ]
     },
     "execution_count": 68,
     "metadata": {},
     "output_type": "execute_result"
    }
   ],
   "source": [
    "d"
   ]
  },
  {
   "cell_type": "code",
   "execution_count": 26,
   "id": "7b91e55e",
   "metadata": {},
   "outputs": [],
   "source": [
    "rme3=sqrt(mean_squared_error(testy,rf.predict(testx),squared=False))"
   ]
  },
  {
   "cell_type": "code",
   "execution_count": 27,
   "id": "c1210943",
   "metadata": {},
   "outputs": [
    {
     "data": {
      "text/plain": [
       "55.01202352850247"
      ]
     },
     "execution_count": 27,
     "metadata": {},
     "output_type": "execute_result"
    }
   ],
   "source": [
    "rme3"
   ]
  },
  {
   "cell_type": "markdown",
   "id": "f6444f59",
   "metadata": {},
   "source": [
    "# GradientBoostingRegressor"
   ]
  },
  {
   "cell_type": "code",
   "execution_count": 28,
   "id": "a67d8a65",
   "metadata": {},
   "outputs": [],
   "source": [
    "clf = GradientBoostingRegressor(n_estimators=100, learning_rate=1.0,max_depth=1, random_state=0).fit(trainx, trainy)"
   ]
  },
  {
   "cell_type": "code",
   "execution_count": 29,
   "id": "1af3b801",
   "metadata": {},
   "outputs": [
    {
     "data": {
      "text/plain": [
       "array([13893.60524699, 13301.8987448 ,  7375.24813262, ...,\n",
       "        7283.60755233,  4723.37183602,  8678.91968873])"
      ]
     },
     "execution_count": 29,
     "metadata": {},
     "output_type": "execute_result"
    }
   ],
   "source": [
    "s=clf.predict(testx)"
   ]
  },
  {
   "cell_type": "code",
   "execution_count": 69,
   "id": "a6c1f32f",
   "metadata": {},
   "outputs": [],
   "source": [
    "g=clf.score(testx,testy)"
   ]
  },
  {
   "cell_type": "code",
   "execution_count": 70,
   "id": "a8390d46",
   "metadata": {},
   "outputs": [
    {
     "data": {
      "text/plain": [
       "0.618786701126588"
      ]
     },
     "execution_count": 70,
     "metadata": {},
     "output_type": "execute_result"
    }
   ],
   "source": [
    "g"
   ]
  },
  {
   "cell_type": "code",
   "execution_count": 31,
   "id": "f01f92e0",
   "metadata": {},
   "outputs": [],
   "source": [
    "rme4=sqrt(mean_squared_error(testy,clf.predict(testx),squared=False))"
   ]
  },
  {
   "cell_type": "code",
   "execution_count": 32,
   "id": "f936a8a5",
   "metadata": {},
   "outputs": [
    {
     "data": {
      "text/plain": [
       "55.631865985682545"
      ]
     },
     "execution_count": 32,
     "metadata": {},
     "output_type": "execute_result"
    }
   ],
   "source": [
    "rme4"
   ]
  },
  {
   "cell_type": "markdown",
   "id": "06c0ce7d",
   "metadata": {},
   "source": [
    "#  AdaBoostRegressor"
   ]
  },
  {
   "cell_type": "code",
   "execution_count": 33,
   "id": "6f21e8cc",
   "metadata": {},
   "outputs": [],
   "source": [
    "clf2 = AdaBoostRegressor(n_estimators=100, random_state=0).fit(trainx,trainy)"
   ]
  },
  {
   "cell_type": "code",
   "execution_count": 34,
   "id": "d0a8fbf6",
   "metadata": {},
   "outputs": [
    {
     "data": {
      "text/plain": [
       "array([13156.42571572, 12600.97930678, 10461.44194134, ...,\n",
       "       10461.44194134,  7612.76440186, 10104.21693514])"
      ]
     },
     "execution_count": 34,
     "metadata": {},
     "output_type": "execute_result"
    }
   ],
   "source": [
    "clf2.predict(testx)"
   ]
  },
  {
   "cell_type": "code",
   "execution_count": 71,
   "id": "2fb9985c",
   "metadata": {},
   "outputs": [],
   "source": [
    "c=clf2.score(testx,testy)"
   ]
  },
  {
   "cell_type": "code",
   "execution_count": 72,
   "id": "a628dad7",
   "metadata": {},
   "outputs": [
    {
     "data": {
      "text/plain": [
       "0.40295580591337843"
      ]
     },
     "execution_count": 72,
     "metadata": {},
     "output_type": "execute_result"
    }
   ],
   "source": [
    "c"
   ]
  },
  {
   "cell_type": "code",
   "execution_count": 36,
   "id": "e6347a8b",
   "metadata": {},
   "outputs": [],
   "source": [
    "rme5=sqrt(mean_squared_error(testy,clf2.predict(testx),squared=False))"
   ]
  },
  {
   "cell_type": "code",
   "execution_count": 37,
   "id": "8ec58222",
   "metadata": {},
   "outputs": [
    {
     "data": {
      "text/plain": [
       "62.23479112455758"
      ]
     },
     "execution_count": 37,
     "metadata": {},
     "output_type": "execute_result"
    }
   ],
   "source": [
    "rme5"
   ]
  },
  {
   "cell_type": "code",
   "execution_count": 51,
   "id": "c0e46cff",
   "metadata": {},
   "outputs": [
    {
     "name": "stdout",
     "output_type": "stream",
     "text": [
      "Collecting prettytableNote: you may need to restart the kernel to use updated packages.\n",
      "  Downloading prettytable-3.2.0-py3-none-any.whl (26 kB)\n",
      "Requirement already satisfied: wcwidth in c:\\anaconda\\lib\\site-packages (from prettytable) (0.2.5)\n",
      "Installing collected packages: prettytable\n",
      "Successfully installed prettytable-3.2.0\n",
      "\n"
     ]
    }
   ],
   "source": [
    "pip install prettytable "
   ]
  },
  {
   "cell_type": "code",
   "execution_count": 75,
   "id": "8df73425",
   "metadata": {},
   "outputs": [],
   "source": [
    "from tabulate import tabulate"
   ]
  },
  {
   "cell_type": "code",
   "execution_count": 77,
   "id": "90bb4590",
   "metadata": {},
   "outputs": [],
   "source": [
    "mydata = [\n",
    "    [\"LinearRegression\",m],\n",
    "    [\"decision_tree_regressor\", s],\n",
    "    [\"random_forest_regression\", d],\n",
    "    [\"gradient_boosting_regression\",g],\n",
    "    [\"ada_boosting_regression\",c]\n",
    "    ]"
   ]
  },
  {
   "cell_type": "code",
   "execution_count": 88,
   "id": "e6227fa7",
   "metadata": {},
   "outputs": [],
   "source": [
    "head1 = [\"Method\", \"score\"]"
   ]
  },
  {
   "cell_type": "code",
   "execution_count": 89,
   "id": "72b7ca9a",
   "metadata": {
    "scrolled": true
   },
   "outputs": [
    {
     "name": "stdout",
     "output_type": "stream",
     "text": [
      "+------------------------------+----------+\n",
      "| Method                       |    score |\n",
      "+==============================+==========+\n",
      "| LinearRegression             | 0.127333 |\n",
      "+------------------------------+----------+\n",
      "| decision_tree_regressor      | 0.601077 |\n",
      "+------------------------------+----------+\n",
      "| random_forest_regression     | 0.635495 |\n",
      "+------------------------------+----------+\n",
      "| gradient_boosting_regression | 0.618787 |\n",
      "+------------------------------+----------+\n",
      "| ada_boosting_regression      | 0.402956 |\n",
      "+------------------------------+----------+\n"
     ]
    }
   ],
   "source": [
    "print(tabulate(mydata, headers=head1, tablefmt=\"grid\"))"
   ]
  },
  {
   "cell_type": "code",
   "execution_count": 79,
   "id": "ca686557",
   "metadata": {},
   "outputs": [],
   "source": [
    "mydata2 = [\n",
    "    [\"LinearRegression\",rme],\n",
    "    [\"decision_tree_regressor\",rme2],\n",
    "    [\"random_forest_regression\", rme3],\n",
    "    [\"gradient_boosting_regression\",rme4],\n",
    "    [\"ada_boosting_regression\",rme5]\n",
    "    ]"
   ]
  },
  {
   "cell_type": "code",
   "execution_count": 82,
   "id": "fe18c5a1",
   "metadata": {},
   "outputs": [],
   "source": [
    "head = [\"Method\", \"rootmean\"]"
   ]
  },
  {
   "cell_type": "code",
   "execution_count": 84,
   "id": "515c58a0",
   "metadata": {},
   "outputs": [
    {
     "name": "stdout",
     "output_type": "stream",
     "text": [
      "+------------------------------+------------+\n",
      "| Method                       |   rootmean |\n",
      "+==============================+============+\n",
      "| LinearRegression             |    68.4296 |\n",
      "+------------------------------+------------+\n",
      "| decision_tree_regressor      |    56.267  |\n",
      "+------------------------------+------------+\n",
      "| random_forest_regression     |    55.012  |\n",
      "+------------------------------+------------+\n",
      "| gradient_boosting_regression |    55.6319 |\n",
      "+------------------------------+------------+\n",
      "| ada_boosting_regression      |    62.2348 |\n",
      "+------------------------------+------------+\n"
     ]
    }
   ],
   "source": [
    "print(tabulate(mydata2, headers=head, tablefmt=\"grid\"))"
   ]
  },
  {
   "cell_type": "code",
   "execution_count": null,
   "id": "e7ecef59",
   "metadata": {},
   "outputs": [],
   "source": []
  }
 ],
 "metadata": {
  "kernelspec": {
   "display_name": "Python 3 (ipykernel)",
   "language": "python",
   "name": "python3"
  },
  "language_info": {
   "codemirror_mode": {
    "name": "ipython",
    "version": 3
   },
   "file_extension": ".py",
   "mimetype": "text/x-python",
   "name": "python",
   "nbconvert_exporter": "python",
   "pygments_lexer": "ipython3",
   "version": "3.9.7"
  }
 },
 "nbformat": 4,
 "nbformat_minor": 5
}
